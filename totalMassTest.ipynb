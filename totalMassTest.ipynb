{
 "metadata": {
  "language_info": {
   "codemirror_mode": {
    "name": "ipython",
    "version": 3
   },
   "file_extension": ".py",
   "mimetype": "text/x-python",
   "name": "python",
   "nbconvert_exporter": "python",
   "pygments_lexer": "ipython3",
   "version": "3.9.4"
  },
  "orig_nbformat": 2,
  "kernelspec": {
   "name": "python394jvsc74a57bd0f669e42020dcbe0110983b84f49315ea95156214cdc1256d3541f61dd3de87e0",
   "display_name": "Python 3.9.4 64-bit ('work': conda)"
  }
 },
 "nbformat": 4,
 "nbformat_minor": 2,
 "cells": [
  {
   "cell_type": "code",
   "execution_count": 1,
   "metadata": {},
   "outputs": [],
   "source": [
    "import numpy as np"
   ]
  },
  {
   "source": [
    "Da Kroupa: $k_1m^{-1.3}$ for $m<0.5$ and $k_2m^{-2.3}$ for $0.5<m<150$.  \n",
    "\n",
    "Per continut\\`a $k_1m^{-1.3}=k_2m^{-2.3}$ in $m=0.5$\n",
    "\n",
    "Calcolo i coefficienti:\n",
    "$k_1\\int^{0.5}_{0.1} m^{-1.3}$ + $k_2(\\int^{0.8}_{0.5} m^{-2.3}$ + $\\int^{2}_{0.8} m^{-2.3}$ + $\\int^{5}_{2} m^{-2.3}$ + $\\int^{10}_{5} m^{-2.3}$ + $\\int^{20}_{10} m^{-2.3}$ + $\\int^{150}_{20} m^{-2.3})$ = 100"
   ],
   "cell_type": "markdown",
   "metadata": {}
  },
  {
   "cell_type": "code",
   "execution_count": 51,
   "metadata": {},
   "outputs": [],
   "source": [
    "k2 = 100./((0.5**-0.3 - 0.1**-0.3)/0.5/(-0.3) + (600.**-1.3 - 0.5**-1.3)/(-1.3))\n",
    "k1 = k2 / 0.5"
   ]
  },
  {
   "cell_type": "code",
   "execution_count": 47,
   "metadata": {},
   "outputs": [
    {
     "output_type": "stream",
     "name": "stdout",
     "text": [
      "28.624395725002042 14.312197862501021\n"
     ]
    }
   ],
   "source": [
    "print(k1,k2)"
   ]
  },
  {
   "cell_type": "code",
   "execution_count": 52,
   "metadata": {},
   "outputs": [
    {
     "output_type": "stream",
     "name": "stdout",
     "text": [
      "Fraction of stars in different mass rnage:\n\tbetween 0.1-0.8 Msun \t there is \t85.29% of stars\n\tbetween 0.8-2 Msun \t there is \t10.24% of stars\n\tbetween 2-5 Msun \t there is \t3.11% of stars\n\tbetween 5-9 Msun \t there is \t0.73% of stars\n\tbetween 9-16 Msun \t there is \t0.33% of stars\n\tbetween 40-16 Msun \t there is \t0.3% of stars\n100.0\n"
     ]
    }
   ],
   "source": [
    "ranges = ['0.1-0.8','0.8-2','2-5','5-9','9-16','40-16']\n",
    "fracBins = k1*(0.5**-0.3 - 0.1**-0.3)/(-0.3) + k2*(0.8**-1.3 - 0.5**-1.3)/(-1.3), k2*(2.**-1.3 - 0.8**-1.3)/(-1.3), k2*(5.**-1.3 - 2.**-1.3)/(-1.3), k2*(9.**-1.3 - 5.**-1.3)/(-1.3), k2*(16.**-1.3 - 9.**-1.3)/(-1.3), k2*(600.**-1.3 - 16.**-1.3)/(-1.3)\n",
    "print(f'Fraction of stars in different mass rnage:')\n",
    "tmp = [ print(f'\\tbetween {ranges[i]} Msun \\t there is \\t{round(fracBins[i],2)}% of stars') for i in range(len(fracBins)) ]\n",
    "print(np.sum(fracBins))"
   ]
  },
  {
   "cell_type": "code",
   "execution_count": 53,
   "metadata": {},
   "outputs": [
    {
     "output_type": "stream",
     "name": "stdout",
     "text": [
      "28.62049415020268 14.31024707510134\nFraction of mass from different ranges:\n\tbetween 0.1-0.8 Msun \t there is \t35.9831% of mass\n\tbetween 0.8-2 Msun \t there is \t17.8334% of mass\n\tbetween 2-5 Msun \t there is \t13.5473% of mass\n\tbetween 5-9 Msun \t there is \t6.9224% of mass\n\tbetween 9-16 Msun \t there is \t5.6909% of mass\n\tbetween 40-16 Msun \t there is \t20.0229% of mass\n100.0\n"
     ]
    }
   ],
   "source": [
    "k2m = 100./((0.5**0.7 - 0.1**0.7)/0.5/(0.7) + (600.**-0.3 - 0.5**-0.3)/(-0.3))\n",
    "k1m = k2m / 0.5\n",
    "print(k1,k2)\n",
    "fracMass = k1m*(0.5**0.7 - 0.1**0.7)/(0.7) + k2m*(0.8**-0.3 - 0.5**-.3)/(-.3), k2m*(2.**-.3 - 0.8**-.3)/(-.3), k2m*(5.**-.3 - 2.**-.3)/(-.3), k2m*(9.**-.3 - 5.**-.3)/(-.3), k2m*(16.**-.3 - 9.**-.3)/(-.3), k2m*(600.**-.3 - 16.**-.3)/(-.3)\n",
    "print(f'Fraction of mass from different ranges:')\n",
    "tmp = [ print(f'\\tbetween {ranges[i]} Msun \\t there is \\t{round(fracMass[i],4)}% of mass') for i in range(len(fracBins)) ]\n",
    "print(np.sum(fracMass))"
   ]
  },
  {
   "cell_type": "code",
   "execution_count": 54,
   "metadata": {},
   "outputs": [
    {
     "output_type": "stream",
     "name": "stdout",
     "text": [
      "cdf: 0.5291734561945101 0.04856392945755889\n",
      "pdf: 4.0972448539817 1.1112161824361362 0.7866517240569808\n",
      "21963 0.21 0.06\n",
      "cdf: 0.5291734561945101 0.04856392945755889\n",
      "pdf: 4.0972448539817 1.1112161824361362 0.7866517240569808\n",
      "cdf: 0.5291734561945101 0.04856392945755889\n",
      "pdf: 4.0972448539817 1.1112161824361362 0.7866517240569808\n",
      "cdf: 0.5291734561945101 0.04856392945755889\n",
      "pdf: 4.0972448539817 1.1112161824361362 0.7866517240569808\n",
      "38173 38173\n",
      "24517 0.32 0.16\n",
      "cdf: 0.5291734561945101 0.04856392945755889\n",
      "pdf: 4.0972448539817 1.1112161824361362 0.7866517240569808\n",
      "cdf: 0.5291734561945101 0.04856392945755889\n",
      "pdf: 4.0972448539817 1.1112161824361362 0.7866517240569808\n",
      "cdf: 0.5291734561945101 0.04856392945755889\n",
      "pdf: 4.0972448539817 1.1112161824361362 0.7866517240569808\n",
      "19919 19919\n",
      "53520 0.36 0.24\n",
      "cdf: 0.5291734561945101 0.04856392945755889\n",
      "pdf: 4.0972448539817 1.1112161824361362 0.7866517240569808\n",
      "cdf: 0.5291734561945101 0.04856392945755889\n",
      "pdf: 4.0972448539817 1.1112161824361362 0.7866517240569808\n",
      "cdf: 0.5291734561945101 0.04856392945755889\n",
      "pdf: 4.0972448539817 1.1112161824361362 0.7866517240569808\n",
      "29733 29733\n",
      "0 0.0 100.0\n",
      "0 0.0 100.0\n",
      "0 0.0 100.0\n",
      "   single_fraction  binary_fraction  multiple_fraction     s1     b1     b2  \\\n",
      "0           100.00             0.00               0.00      0      0  13096   \n",
      "1           100.00             0.00               0.00      0      0  50483   \n",
      "2           100.00             0.00               0.00      0      0  24795   \n",
      "3             0.24             0.36               0.40  35679  53520   6317   \n",
      "4             0.16             0.32               0.52  12258  24517   2931   \n",
      "5             0.06             0.21               0.73   6275  21963   2378   \n",
      "\n",
      "      t1     t2     t3     t4            ms1           mb1           mb2  mt1  \\\n",
      "0      0  14565  14509   7299       0.000000  0.000000e+00   8902.541198    0   \n",
      "1      0  64822  64740  32434       0.000000  0.000000e+00  65736.486432    0   \n",
      "2      0  57774  57804  28871       0.000000  0.000000e+00  75098.955014    0   \n",
      "3  59466  20302  20345  10150  106700.549748  3.511061e+05  41573.984416    0   \n",
      "4  39839   9881   9885   4937   14635.808983  2.881245e+05  34470.734246    0   \n",
      "5  76347   8308   8369   4134    1347.476719  1.020853e+06  84132.317781    0   \n",
      "\n",
      "             mt2            mt3            mt4    nTot          mTot  \n",
      "0    9904.715022    9866.771747    4966.701763   49469  3.364073e+04  \n",
      "1   86590.196114   86429.834592   43402.906750  212479  2.821594e+05  \n",
      "2  182856.031471  182787.832785   91423.705782  169244  5.321665e+05  \n",
      "3  133571.415796  133540.323455   66905.203368  205779  8.333976e+05  \n",
      "4  116298.640610  116331.478377   58285.251036  104248  6.281464e+05  \n",
      "5  289186.752086  290988.680813  147509.867058  127774  1.834018e+06  \n",
      "--------> tot stars=43054311.47285975\n",
      "the percent 0.3 should be 0.3\n",
      "the percent 0.24 should be 0.33\n",
      "the percent 0.48 should be 0.73\n",
      "the percent 0.39 should be 3.11\n",
      "the percent 0.49 should be 10.24\n",
      "the percent 0.11 should be 85.29\n",
      "--------> tot stars=31285015.002538525\n",
      "the percent 0.41 should be 0.3\n",
      "the percent 0.33 should be 0.33\n",
      "the percent 0.66 should be 0.73\n",
      "the percent 0.54 should be 3.11\n",
      "the percent 0.68 should be 10.24\n",
      "the percent 0.16 should be 85.29\n",
      "--------> tot stars=28353556.383261558\n",
      "the percent 0.45 should be 0.3\n",
      "the percent 0.37 should be 0.33\n",
      "the percent 0.73 should be 0.73\n",
      "the percent 0.6 should be 3.11\n",
      "the percent 0.75 should be 10.24\n",
      "the percent 0.17 should be 85.29\n",
      "--------> tot stars=5438183.419057401\n",
      "the percent 2.35 should be 0.3\n",
      "the percent 1.92 should be 0.33\n",
      "the percent 3.78 should be 0.73\n",
      "the percent 3.11 should be 3.11\n",
      "the percent 3.91 should be 10.24\n",
      "the percent 0.91 should be 85.29\n",
      "--------> tot stars=2074600.9514803719\n",
      "the percent 6.16 should be 0.3\n",
      "the percent 5.02 should be 0.33\n",
      "the percent 9.92 should be 0.73\n",
      "the percent 8.16 should be 3.11\n",
      "the percent 10.24 should be 10.24\n",
      "the percent 2.38 should be 85.29\n",
      "--------> tot stars=58000.81466644672\n",
      "the percent 220.3 should be 0.3\n",
      "the percent 179.74 should be 0.33\n",
      "the percent 354.79 should be 0.73\n",
      "the percent 291.8 should be 3.11\n",
      "the percent 366.34 should be 10.24\n",
      "the percent 85.29 should be 85.29\n"
     ]
    }
   ],
   "source": [
    "import ic4popsyn.tools as tools \n",
    "import matplotlib.pyplot as plt \n",
    "import pandas as pd \n",
    "\n",
    "nBin = int(1e5) # massive binaries mp > 5 MSun\n",
    "rangeLabels = ['0.1-0.8','0.8-2','2-5','5-9','9-16','16-150']\n",
    "mBoundaries = [[0.1,0.8],[0.8,2.],[2.,5.],[5.,9.],[9.,16.],[16.,600.]]\n",
    "rangeLabels = ['0','1','2','3','4','5']\n",
    "ranges = [0.1,0.8, 2., 5, 9., 16., 600.]\n",
    "\n",
    "# fraction = nCM / (nCM + stars)\n",
    "singleFractions = [100.0, 100.0, 100.0, 0.24, 0.16, 0.06] # primaries with no companions\n",
    "singleErrs = [100.0, 100.0, 100.0, 0.24, 0.16, 0.06] # primaries with no companions\n",
    "binaryFractions = [0.0,  0.0, 0.0, 0.36, 0.32, 0.21] # primaries with a companion \n",
    "multipleFractions = [0.0, 0.0, 0.0, 0.40, 0.52, 0.73] #(we assume that quadruples are half the population of quadruples+triples reported in table 13 of M&S2017)\n",
    "\n",
    "summary = pd.DataFrame({'single_fraction': singleFractions,\n",
    "                        'binary_fraction': binaryFractions,\n",
    "                        'multiple_fraction': multipleFractions,\n",
    "                        's1': [0] * len(singleFractions),\n",
    "                        'b1': [0] * len(singleFractions), \n",
    "                        'b2': [0] * len(singleFractions),\n",
    "                        't1': [0] * len(singleFractions),\n",
    "                        't2': [0] * len(singleFractions),\n",
    "                        't3': [0] * len(singleFractions), \n",
    "                        't4': [0] * len(singleFractions), \n",
    "                        'ms1': [0] * len(singleFractions),\n",
    "                        'mb1': [0] * len(singleFractions),\n",
    "                        'mb2': [0] * len(singleFractions),\n",
    "                        'mt1': [0] * len(singleFractions),\n",
    "                        'mt2': [0] * len(singleFractions),\n",
    "                        'mt3': [0] * len(singleFractions), \n",
    "                        'mt4': [0] * len(singleFractions)})\n",
    "\n",
    "# generate massive primaries \n",
    "binaries = pd.DataFrame({'m1': tools.IMF(nBin,mass_ranges=[5.,600],alphas=[-2.3])})\n",
    "binaries = binaries.sort_values(by='m1')\n",
    "# divide primaries in ranges \n",
    "binaries['range_b1'] = pd.cut(binaries['m1'], ranges, labels=rangeLabels, include_lowest=True, right=False)\n",
    "summary.loc[:,'b1'] = [ i for i in binaries.groupby(by='range_b1').size() ]\n",
    "# compute the secondary \n",
    "q = tools.broken_power_law(binaries['m1'].size, 0.1, 0.3, 1., -0.7, -1.6)\n",
    "binaries['m2'] = binaries['m1'] * q\n",
    "binaries['range_b2'] = pd.cut(binaries['m2'], ranges, labels=rangeLabels, include_lowest=True, right=False)\n",
    "summary.loc[:,'b2'] = [ i for i in binaries.groupby(by='range_b2').size() ]\n",
    "summary.loc[:,'mb2'] = [ i for i in binaries.groupby(by='range_b2')['m2'].sum() ]\n",
    "summary.loc[:,'mb1'] = [ i for i in binaries.groupby(by='range_b1')['m1'].sum() ]\n",
    "# compute number of companions in triples systems ...\n",
    "for i,mb in zip(range(len(summary)-1,-1,-1),mBoundaries):\n",
    "    print(summary.loc[i,'b1'],summary.loc[i,'binary_fraction'],summary.loc[i,'single_fraction'])\n",
    "    if summary.loc[i,'b1'] != 0:\n",
    "        nT1 = int(summary.loc[i,'b1'] / summary.loc[i,'binary_fraction'])\n",
    "        summary.loc[i,'s1'] = nT1 * summary.loc[i,'single_fraction']\n",
    "        singles = pd.DataFrame({'m1': tools.IMF(int(nT1 * summary.loc[i,'single_fraction']), mass_ranges=mb,alphas=[-2.3])})\n",
    "        summary.loc[i,'ms1'] = singles['m1'].sum()\n",
    "        summary.loc[i,'t1'] = nT1 * summary.loc[i,'multiple_fraction']\n",
    "        tmp = pd.DataFrame({'t1': tools.IMF(int(summary.loc[i,'t1']),mass_ranges=mBoundaries[i],alphas=[-2.3])})\n",
    "        q2 = tools.broken_power_law(tmp['t1'].size, 0.1, 0.3, 1., -0.7, -1.6) # average value from table 13 in M&S2017\n",
    "        q3 = tools.broken_power_law(tmp['t1'].size, 0.1, 0.3, 1., -0.7, -1.6) \n",
    "        tmp['t2'] = tmp['t1'] * q2\n",
    "        tmp['range_t2'] = pd.cut(tmp['t2'], ranges, labels=rangeLabels, include_lowest=True, right=False)\n",
    "        summary.loc[:,'t2'] += [ i for i in tmp.groupby(by='range_t2').size() ]\n",
    "        summary.loc[:,'mt2'] += [ i for i in tmp.groupby(by='range_t2')['t2'].sum() ]\n",
    "        tmp['t3'] = tmp['t1'] * q3\n",
    "        tmp['range_t3'] = pd.cut(tmp['t3'], ranges, labels=rangeLabels, include_lowest=True, right=False)\n",
    "        summary.loc[:,'t3'] += [ i for i in tmp.groupby(by='range_t3').size() ]\n",
    "        summary.loc[:,'mt3'] += [ i for i in tmp.groupby(by='range_t3')['t3'].sum() ]\n",
    "        q4 = tools.broken_power_law(int(tmp['t1'].size/2.), 0.1, 0.3, 1., -0.7, -1.6)\n",
    "        #q4 = tools.power_law(int(tmp['t1'].size/2.), 0.1, 0.3, -1.1)\n",
    "        print(len(np.random.choice(tmp['t1'], size=len(q4), replace=False)), len(q4))\n",
    "        tmp4 = pd.DataFrame({'t4': np.random.choice(tmp['t1'], size=len(q4), replace=False) * q4})\n",
    "        tmp4['range_t4'] = pd.cut(tmp4['t4'], ranges, labels=rangeLabels, include_lowest=True, right=False)\n",
    "        summary.loc[:,'t4'] += [ i for i in tmp4.groupby(by='range_t4').size() ]\n",
    "        summary.loc[:,'mt4'] += [ i for i in tmp4.groupby(by='range_t4')['t4'].sum() ]\n",
    "\n",
    "\n",
    "summary.loc[:,'t1'] = summary.loc[:,'t1'].astype(int)\n",
    "summary.loc[:,'s1'] = summary.loc[:,'s1'].astype(int)\n",
    "#print(summary)\n",
    "\n",
    "#summary.loc[:,'nTot'] = [ s1 + b1 + b2 + t1 + t2 + t3  for s1,b1,b2,t1,t2,t3 in zip(summary['s1'],summary['b1'],summary['b2'],summary['t1'],summary['t2'],summary['t3'])]\n",
    "summary.eval('nTot=s1+b1+b2+t1+t2+t3+t4', inplace=True)\n",
    "summary.eval('mTot=ms1+mb1+mb2+mt1+mt2+mt3+mt4', inplace=True)\n",
    "print(summary)\n",
    "#print('query')\n",
    "#print(summary.query('t1>t2'))\n",
    "#print(summary.eval('sumt=t1+t2',inplace=True))\n",
    "\n",
    "#print(summary)\n",
    "for n_stars,frac in zip(summary.nTot[::-1],fracBins[::-1]):\n",
    "    X = n_stars * 100. / frac\n",
    "    print(f'--------> tot stars={X}')\n",
    "    for n,f in zip(summary.nTot[::-1],fracBins[::-1]):\n",
    "        print(f'the percent {round(100.*n/X,2)} should be {round(f,2)}')\n"
   ]
  },
  {
   "cell_type": "code",
   "execution_count": 171,
   "metadata": {},
   "outputs": [
    {
     "output_type": "stream",
     "name": "stdout",
     "text": [
      "100518\n73378.14\n"
     ]
    }
   ],
   "source": [
    "print(6031+21109+73378)\n",
    "print(100518 *73. /100)"
   ]
  },
  {
   "cell_type": "code",
   "execution_count": 26,
   "metadata": {},
   "outputs": [
    {
     "output_type": "execute_result",
     "data": {
      "text/plain": [
       "-1.55"
      ]
     },
     "metadata": {},
     "execution_count": 26
    }
   ],
   "source": [
    "(-0.5-1.7-2.0-2.0)/4."
   ]
  },
  {
   "cell_type": "code",
   "execution_count": 27,
   "metadata": {},
   "outputs": [
    {
     "output_type": "execute_result",
     "data": {
      "text/plain": [
       "-0.7"
      ]
     },
     "metadata": {},
     "execution_count": 27
    }
   ],
   "source": [
    "(0.1-0.2-1.2-1.5)/4."
   ]
  },
  {
   "cell_type": "code",
   "execution_count": null,
   "metadata": {},
   "outputs": [],
   "source": []
  }
 ]
}